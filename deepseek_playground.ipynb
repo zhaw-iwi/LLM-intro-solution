{
  "nbformat": 4,
  "nbformat_minor": 0,
  "metadata": {
    "colab": {
      "provenance": [],
      "authorship_tag": "ABX9TyMuTFP4BXerX+HEez+0ROdR",
      "include_colab_link": true
    },
    "kernelspec": {
      "name": "python3",
      "display_name": "Python 3"
    },
    "language_info": {
      "name": "python"
    }
  },
  "cells": [
    {
      "cell_type": "markdown",
      "metadata": {
        "id": "view-in-github",
        "colab_type": "text"
      },
      "source": [
        "<a href=\"https://colab.research.google.com/github/zhaw-iwi/LLM-Intro/blob/main/deepseek_playground.ipynb\" target=\"_parent\"><img src=\"https://colab.research.google.com/assets/colab-badge.svg\" alt=\"Open In Colab\"/></a>"
      ]
    },
    {
      "cell_type": "markdown",
      "source": [
        "# Example to Run Deepseek locally / in Google colab with ollama\n",
        "\n",
        "Prerequisites: Nvidia GPU with Cuda, Unix/Linux environment\n"
      ],
      "metadata": {
        "id": "CW5OR6j3rlKr"
      }
    },
    {
      "cell_type": "markdown",
      "source": [
        "## Download ollama and install ollama"
      ],
      "metadata": {
        "id": "-AT4q4xirS1c"
      }
    },
    {
      "cell_type": "code",
      "execution_count": null,
      "metadata": {
        "id": "d6S8YeTK6KNV"
      },
      "outputs": [],
      "source": [
        "!curl https://ollama.ai/install.sh | sh"
      ]
    },
    {
      "cell_type": "markdown",
      "source": [
        "## Install cuda drivers\n",
        "- The first command disables the interactive shell, as we do not have access to it in colab\n",
        "- the second command installs the latest version of the cuda drivers to optimize the inference (predicition) of the model"
      ],
      "metadata": {
        "id": "jlJvBg6xrEq1"
      }
    },
    {
      "cell_type": "code",
      "source": [
        "!echo 'debconf debconf/frontend select Noninteractive' | sudo debconf-set-selections\n",
        "!sudo apt-get update && sudo apt-get install -y cuda-drivers"
      ],
      "metadata": {
        "id": "7LoyBqh46Y1c"
      },
      "execution_count": null,
      "outputs": []
    },
    {
      "cell_type": "markdown",
      "source": [
        "## Ensure the cuda drivers are used"
      ],
      "metadata": {
        "id": "2q_Q7kV2v7gO"
      }
    },
    {
      "cell_type": "code",
      "source": [
        "import os\n",
        "\n",
        "# Set LD_LIBRARY_PATH so the system NVIDIA library\n",
        "os.environ.update({'LD_LIBRARY_PATH': '/usr/lib64-nvidia'})"
      ],
      "metadata": {
        "id": "gUrQilPb8OrF"
      },
      "execution_count": null,
      "outputs": []
    },
    {
      "cell_type": "markdown",
      "source": [
        "## Start Ollama\n",
        "- nohup is a command line expression that prevents a process from stopping after exiting the terminal."
      ],
      "metadata": {
        "id": "J4QHwiEQwExX"
      }
    },
    {
      "cell_type": "code",
      "source": [
        "!nohup ollama serve &"
      ],
      "metadata": {
        "id": "j4ilhzAr8fsd"
      },
      "execution_count": null,
      "outputs": []
    },
    {
      "cell_type": "markdown",
      "source": [
        "# Donwload the deepseek model"
      ],
      "metadata": {
        "id": "zLMt1JHsy3ar"
      }
    },
    {
      "cell_type": "code",
      "source": [
        "!ollama pull deepseek-r1:7b"
      ],
      "metadata": {
        "collapsed": true,
        "id": "wtKX5IKT8hxY"
      },
      "execution_count": null,
      "outputs": []
    },
    {
      "cell_type": "markdown",
      "source": [
        "## Install ollama in your Python environment"
      ],
      "metadata": {
        "id": "mETEp74Zy8v0"
      }
    },
    {
      "cell_type": "code",
      "source": [
        "!pip install ollama"
      ],
      "metadata": {
        "id": "Go_E2l-k8lp4"
      },
      "execution_count": null,
      "outputs": []
    },
    {
      "cell_type": "code",
      "source": [],
      "metadata": {
        "id": "Z4jvKBtGzCYL"
      },
      "execution_count": null,
      "outputs": []
    },
    {
      "cell_type": "markdown",
      "source": [
        "## Example model request"
      ],
      "metadata": {
        "id": "nqTaBWx3zGQz"
      }
    },
    {
      "cell_type": "code",
      "source": [
        "import ollama\n",
        "response = ollama.chat(model='deepseek-r1:7b', messages=[\n",
        "  {\n",
        "    'role': 'user',\n",
        "    'content': \"How many r's are in a strawberry?\",\n",
        "  },\n",
        "])\n",
        "print(response['message']['content'])"
      ],
      "metadata": {
        "id": "A1Q3HqLY-RMf"
      },
      "execution_count": null,
      "outputs": []
    }
  ]
}